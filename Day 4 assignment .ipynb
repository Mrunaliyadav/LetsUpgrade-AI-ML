{
 "cells": [
  {
   "cell_type": "markdown",
   "metadata": {},
   "source": [
    "## Day 04 Assignment "
   ]
  },
  {
   "cell_type": "markdown",
   "metadata": {},
   "source": [
    " ## Q1) Research on whether addition, subtraction, multiplication, division, floor division and module operations be performed on complex numbers. Based on your study, implement a Python program to demonstrate these operations.\n"
   ]
  },
  {
   "cell_type": "code",
   "execution_count": 1,
   "metadata": {},
   "outputs": [
    {
     "name": "stdout",
     "output_type": "stream",
     "text": [
      "\n",
      "Addition of the comlpex numbers, 6+7j and 7+3j is (13+10j)\n",
      "\n",
      "Subtraction of the comlpex numbers, 6 + 7j and 7 + 3j is (-1+4j)\n",
      "\n",
      "Multiplication of the comlpex numbers, 6 + 7j and 7 + 3j is (21+67j)\n",
      "\n",
      "Division of the comlpex numbers, 6 + 7j and 7 + 3j is (1.0862068965517242+0.5344827586206897j)\n",
      "\n",
      "Floor division and modulo division of complex numbers is not possible\n"
     ]
    }
   ],
   "source": [
    "#COMPLEX NUMBERS\n",
    "num1 = 6 + 7j\n",
    "num2 = 7 + 3j\n",
    "\n",
    "#Addition of complex number:\n",
    "print(\"\\nAddition of the comlpex numbers, 6+7j and 7+3j is\", num1 + num2)\n",
    "#Subtraction of complex numbers \n",
    "print(\"\\nSubtraction of the comlpex numbers, 6 + 7j and 7 + 3j is\", num1 - num2)\n",
    "#Multiplication of complex numbers \n",
    "print(\"\\nMultiplication of the comlpex numbers, 6 + 7j and 7 + 3j is\", num1 * num2)\n",
    "#Division of complex numbers\n",
    "print(\"\\nDivision of the comlpex numbers, 6 + 7j and 7 + 3j is\", num1 / num2)\n",
    "print(\"\\nFloor division and modulo division of complex numbers is not possible\")"
   ]
  },
  {
   "cell_type": "markdown",
   "metadata": {},
   "source": [
    "## Q2) Research on range() functions and its parameters. Create a markdown cell and write in your own words (no copy-paste from google please) what you understand about it. Implement a small program of your choice on the same.\n"
   ]
  },
  {
   "cell_type": "markdown",
   "metadata": {},
   "source": [
    "### The Range() function in python is a built in fucntion that generates integer numbers from the starting integer to the ending integer\n",
    "\n",
    "#### 1. A start argument is a starting number of the sequence.\n",
    "#### 2. A stop argument is an upper limit. The stop argument integer is not included in the code. \n",
    "#### 3. The range funtion can be represented as -\n",
    "                1.range(stop_value) - considers the starting point as zero\n",
    "                2.range(start_value, stop_value) - generates the sequence based on the start and stop value\n",
    "                3.range(start_value, stop_value, step_size) - generates the sequence by incrementing the start value until it                     reaches the stop value using the step size \n",
    "    "
   ]
  },
  {
   "cell_type": "code",
   "execution_count": 5,
   "metadata": {},
   "outputs": [
    {
     "name": "stdout",
     "output_type": "stream",
     "text": [
      "0\n",
      "1\n",
      "2\n",
      "3\n",
      "4\n"
     ]
    }
   ],
   "source": [
    "#1\n",
    "\n",
    "a = range(5)\n",
    "\n",
    "for i in a:\n",
    "    print(i)"
   ]
  },
  {
   "cell_type": "code",
   "execution_count": 6,
   "metadata": {},
   "outputs": [
    {
     "name": "stdout",
     "output_type": "stream",
     "text": [
      "1\n",
      "2\n",
      "3\n",
      "4\n",
      "5\n",
      "6\n",
      "7\n",
      "8\n"
     ]
    }
   ],
   "source": [
    "#2\n",
    "\n",
    "a = range (1,9)\n",
    "\n",
    "for i in a:\n",
    "    print(i)"
   ]
  },
  {
   "cell_type": "code",
   "execution_count": 7,
   "metadata": {},
   "outputs": [
    {
     "name": "stdout",
     "output_type": "stream",
     "text": [
      "2\n",
      "4\n",
      "6\n",
      "8\n"
     ]
    }
   ],
   "source": [
    "#3\n",
    "\n",
    "a = range (2,10,2)\n",
    "\n",
    "for i in a:\n",
    "    print(i)"
   ]
  },
  {
   "cell_type": "markdown",
   "metadata": {},
   "source": [
    "## Q3) Consider a list of 10 elements of integer values. If the number in the list is divisible by 2, print the result as 'square of that number minus 2'\n"
   ]
  },
  {
   "cell_type": "code",
   "execution_count": 9,
   "metadata": {},
   "outputs": [
    {
     "name": "stdout",
     "output_type": "stream",
     "text": [
      "98\n",
      "2914\n",
      "898\n",
      "1598\n",
      "3598\n",
      "4898\n",
      "6398\n",
      "9998\n"
     ]
    }
   ],
   "source": [
    "\n",
    "l=[10,54,30,40,67,60,70,80,77,100]\n",
    "for i in l:\n",
    "    if i%2==0:\n",
    "        print (i*i-2)"
   ]
  },
  {
   "cell_type": "markdown",
   "metadata": {},
   "source": [
    "## Q4) Consider a list of 10 elements. Print all the elements in the list which are greater than 7 when that number is divided 2.\n"
   ]
  },
  {
   "cell_type": "code",
   "execution_count": 8,
   "metadata": {},
   "outputs": [
    {
     "name": "stdout",
     "output_type": "stream",
     "text": [
      "20\n",
      "30\n",
      "40\n",
      "50\n",
      "60\n",
      "70\n",
      "80\n",
      "90\n",
      "80\n",
      "100\n"
     ]
    }
   ],
   "source": [
    "\n",
    "l=[10,20,30,40,50,60,70,80,90,80,100]\n",
    "for i in l:\n",
    "    if i/2>7:\n",
    "        print (int(i))"
   ]
  },
  {
   "cell_type": "markdown",
   "metadata": {},
   "source": [
    "\n",
    "## Q5) Consider two numbers. Perform their subtraction and if the result of subtraction is greater than 25, print their multiplication result else print their division result."
   ]
  },
  {
   "cell_type": "code",
   "execution_count": 10,
   "metadata": {},
   "outputs": [
    {
     "name": "stdout",
     "output_type": "stream",
     "text": [
      "Enter the first number:10\n",
      "Enter the first number:2\n",
      "Division of the two numbers is - 5.0\n"
     ]
    }
   ],
   "source": [
    "\n",
    "a=int(input(\"Enter the first number:\"))\n",
    "b=int(input(\"Enter the first number:\"))\n",
    "c=a-b\n",
    "if c>25:\n",
    "    print (\"Multiplication of the two numbers is - \", a*b)\n",
    "else:\n",
    "    print (\"Division of the two numbers is -\", a/b)\n"
   ]
  },
  {
   "cell_type": "code",
   "execution_count": null,
   "metadata": {},
   "outputs": [],
   "source": []
  }
 ],
 "metadata": {
  "kernelspec": {
   "display_name": "Python 3",
   "language": "python",
   "name": "python3"
  },
  "language_info": {
   "codemirror_mode": {
    "name": "ipython",
    "version": 3
   },
   "file_extension": ".py",
   "mimetype": "text/x-python",
   "name": "python",
   "nbconvert_exporter": "python",
   "pygments_lexer": "ipython3",
   "version": "3.7.6"
  }
 },
 "nbformat": 4,
 "nbformat_minor": 4
}
