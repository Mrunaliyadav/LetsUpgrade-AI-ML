{
 "cells": [
  {
   "cell_type": "markdown",
   "metadata": {},
   "source": [
    "# Day 03 Assignment\n",
    "\n"
   ]
  },
  {
   "cell_type": "markdown",
   "metadata": {},
   "source": [
    "## Q1) Write a program to subtract two complex numbers in Python.\n"
   ]
  },
  {
   "cell_type": "code",
   "execution_count": 17,
   "metadata": {},
   "outputs": [
    {
     "name": "stdout",
     "output_type": "stream",
     "text": [
      "subtraction of a= (5+6j) and b= (4+7j) is c= (1-1j)\n"
     ]
    }
   ],
   "source": [
    "# Subtracting two complex numbers \n",
    "\n",
    "a=5+6j\n",
    "b=4+7j\n",
    "c=a-b\n",
    "print(\"subtraction of a=\",a, \"and b=\", b, \"is c=\", c)   \n"
   ]
  },
  {
   "cell_type": "markdown",
   "metadata": {},
   "source": [
    "## Q2) Write a program to find the fourth root of a number.\n"
   ]
  },
  {
   "cell_type": "code",
   "execution_count": 18,
   "metadata": {},
   "outputs": [
    {
     "name": "stdout",
     "output_type": "stream",
     "text": [
      "Enter a number:4000\n",
      "502.9733718731742 is the fourth root of 4000\n"
     ]
    }
   ],
   "source": [
    "#Find the fourth root of a number \n",
    "\n",
    "n=int(input(\"Enter a number:\"))\n",
    "print(n**(3/4) , \"is the fourth root of\" , n)\n",
    "\n"
   ]
  },
  {
   "cell_type": "markdown",
   "metadata": {},
   "source": [
    "## Q3) Write a program to swap two numbers in Python with the help of a temporary variable.\n"
   ]
  },
  {
   "cell_type": "code",
   "execution_count": 13,
   "metadata": {},
   "outputs": [
    {
     "name": "stdout",
     "output_type": "stream",
     "text": [
      "enter the first number:10\n",
      "enter the second number:12\n",
      "Value of a after swapping: 12\n",
      "Value of b after swapping: 10\n"
     ]
    }
   ],
   "source": [
    "#Swap two numbers in python usuing a temporary variable \n",
    "a=int(input(\"enter the first number:\"))\n",
    "b=int(input(\"enter the second number:\"))\n",
    "temp=a\n",
    "a=b\n",
    "b=temp\n",
    "print (\"Value of a after swapping:\", a)\n",
    "print (\"Value of b after swapping:\", b)\n"
   ]
  },
  {
   "cell_type": "markdown",
   "metadata": {},
   "source": [
    "## Q4) Write a program to swap two numbers in Python without using a temporary variable.\n"
   ]
  },
  {
   "cell_type": "code",
   "execution_count": 14,
   "metadata": {},
   "outputs": [
    {
     "name": "stdout",
     "output_type": "stream",
     "text": [
      "a= 7\n",
      "b= 4\n"
     ]
    }
   ],
   "source": [
    "#Swap two numbers without using a temporary variable \n",
    "a=4\n",
    "b=7\n",
    "a,b=b,a\n",
    "print(\"a=\",a)\n",
    "print(\"b=\",b)"
   ]
  },
  {
   "cell_type": "markdown",
   "metadata": {},
   "source": [
    "## Q5) Write a program to convert fahrenheit to kelvin and celsius both."
   ]
  },
  {
   "cell_type": "code",
   "execution_count": 15,
   "metadata": {},
   "outputs": [
    {
     "name": "stdout",
     "output_type": "stream",
     "text": [
      "Enter the temperature in fahrenheit:12\n",
      "Temperature in celsius- -11.11111111111111\n",
      "Temperature in kelvin- 262.0388888888889\n"
     ]
    }
   ],
   "source": [
    "#Convert Fahreinheit to kelvin and celsius both\n",
    "\n",
    "a=int(input(\"Enter the temperature in fahrenheit:\"))\n",
    "print(\"Temperature in celsius-\", (a-32)*5/9)\n",
    "print(\"Temperature in kelvin-\", (a-32)*5/9+273.15)"
   ]
  },
  {
   "cell_type": "markdown",
   "metadata": {},
   "source": [
    "## Q6) Write a program to demonstrate all the available data types in Python. Hint: Use type() function."
   ]
  },
  {
   "cell_type": "markdown",
   "metadata": {},
   "source": [
    "\n",
    "### **There are various data types in python.**\n",
    "\n",
    "1. Python numbers.\n",
    "**Integers, floating point numbers and complex numbers fall under Python numbers category. They are defined as \"int\", \"float\" and \"complex\" classes in Python.**\n",
    "\n",
    "example-"
   ]
  },
  {
   "cell_type": "code",
   "execution_count": 3,
   "metadata": {},
   "outputs": [
    {
     "name": "stdout",
     "output_type": "stream",
     "text": [
      "5 is of type <class 'int'>\n"
     ]
    }
   ],
   "source": [
    "#1 Integer\n",
    "\n",
    "a = 5\n",
    "print(a, \"is of type\", type(a))"
   ]
  },
  {
   "cell_type": "code",
   "execution_count": 4,
   "metadata": {},
   "outputs": [
    {
     "name": "stdout",
     "output_type": "stream",
     "text": [
      "3.5 is of type <class 'float'>\n"
     ]
    }
   ],
   "source": [
    "#2 Flaot\n",
    "\n",
    "a=3.5\n",
    "print(a, \"is of type\", type(a))"
   ]
  },
  {
   "cell_type": "code",
   "execution_count": 5,
   "metadata": {},
   "outputs": [
    {
     "name": "stdout",
     "output_type": "stream",
     "text": [
      "(4+5j) is of type <class 'complex'>\n"
     ]
    }
   ],
   "source": [
    "#3 Complex\n",
    "a=4+5j\n",
    "print(a, \"is of type\", type(a))"
   ]
  },
  {
   "cell_type": "markdown",
   "metadata": {},
   "source": [
    "#### 2. Python list **List is a very important function in python. Its an ordered sequence of items. All the items in a list need not be of the same data type.**\n",
    "\n",
    "example-\n"
   ]
  },
  {
   "cell_type": "code",
   "execution_count": 6,
   "metadata": {},
   "outputs": [
    {
     "name": "stdout",
     "output_type": "stream",
     "text": [
      "[5, 10, 15, 20, 25, 30, 35, 40] is of type <class 'list'>\n"
     ]
    }
   ],
   "source": [
    "a = [5,10,15,20,25,30,35,40]\n",
    "print(a, \"is of type\", type(a))"
   ]
  },
  {
   "cell_type": "markdown",
   "metadata": {},
   "source": [
    "#### **3. Python Tuple Tuple is an ordered sequence of items same as a list. The only difference is that tuples are immutable. Tuples once created cannot be modified. Tuples are used to write-protect data and are usually faster than lists as they cannot change dynamically.**\n",
    "\n",
    "example-"
   ]
  },
  {
   "cell_type": "code",
   "execution_count": 8,
   "metadata": {},
   "outputs": [
    {
     "name": "stdout",
     "output_type": "stream",
     "text": [
      "(5, 'program', (1+3j)) is of type <class 'tuple'>\n"
     ]
    }
   ],
   "source": [
    "t = (5,'program', 1+3j)\n",
    "print(t, \"is of type\", type(t))"
   ]
  },
  {
   "cell_type": "markdown",
   "metadata": {},
   "source": [
    "#### **4. Python Strings. String is sequence of Unicode characters. We can create them by enclosing characters in quotes.**\n",
    "\n",
    "example -"
   ]
  },
  {
   "cell_type": "code",
   "execution_count": 9,
   "metadata": {},
   "outputs": [
    {
     "name": "stdout",
     "output_type": "stream",
     "text": [
      "Hola amigo is of type <class 'str'>\n"
     ]
    }
   ],
   "source": [
    "s = 'Hola amigo'\n",
    "print(s, \"is of type\", type(s))"
   ]
  },
  {
   "cell_type": "markdown",
   "metadata": {},
   "source": [
    "## Q7) Create a Markdown cell in jupyter and list the steps discussed in the session by Dr. Darshan Ingle sir to create Github profile and upload Githubs Assignment link."
   ]
  },
  {
   "cell_type": "markdown",
   "metadata": {},
   "source": [
    "## Steps Discussed \n",
    "\n",
    "1. github is a place whwere the students can upload their codes.\n",
    "2. github is used for building up your profile.\n",
    "3. github is a place where the data can be psuhed.\n",
    "4. create a folder called \"day3\"\n",
    "5. do the given assignment in any of the jupyter folder\n",
    "6. go to github\n",
    "7. create a new repositary\n",
    "8. name it as \"Letsupgrade AI-ML\"\n",
    "9. keep it public\n",
    "10. scroll down and click on create repository \n",
    "11. upload an exixting file using the \"drag and drop function\"\n",
    "12. click on commit changes\n",
    "13. To access the folder, open your profile >> go to repositories >> Select your repositotory >> copy the link and then upload it to the google forms. "
   ]
  }
 ],
 "metadata": {
  "kernelspec": {
   "display_name": "Python 3",
   "language": "python",
   "name": "python3"
  },
  "language_info": {
   "codemirror_mode": {
    "name": "ipython",
    "version": 3
   },
   "file_extension": ".py",
   "mimetype": "text/x-python",
   "name": "python",
   "nbconvert_exporter": "python",
   "pygments_lexer": "ipython3",
   "version": "3.7.6"
  }
 },
 "nbformat": 4,
 "nbformat_minor": 4
}
